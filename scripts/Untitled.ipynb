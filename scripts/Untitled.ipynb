{
 "cells": [
  {
   "cell_type": "code",
   "execution_count": 2,
   "metadata": {},
   "outputs": [],
   "source": [
    "import os\n",
    "import subprocess\n",
    "import pickle\n",
    "import datetime\n",
    "import csv\n",
    "import pprint\n",
    "import pandas as pd\n",
    "import re\n",
    "import in_place"
   ]
  },
  {
   "cell_type": "code",
   "execution_count": 13,
   "metadata": {},
   "outputs": [],
   "source": [
    "def askCurrentPageAllBooks(book:pd.DataFrame='x'):\n",
    "\t\"\"\"\n",
    "\tUser interface function,\n",
    "\n",
    "\tAks the user for infos and update the log file\n",
    "\t\"\"\"\n",
    "\tdataBooks = pd.read_csv(os.path.join('..', 'data', 'books_data.csv'))\n",
    "\tfor row in list(dataBooks.items()):\n",
    "\t\tprint(row)"
   ]
  },
  {
   "cell_type": "code",
   "execution_count": 14,
   "metadata": {},
   "outputs": [
    {
     "name": "stdout",
     "output_type": "stream",
     "text": [
      "('name', 0                         OpenIntro Statistics\n",
      "1                           R for Data Science\n",
      "2                   HandsOn Programming with R\n",
      "3    Linear Algebra - Foundations to Frontiers\n",
      "4                 Python Data Science Handbook\n",
      "Name: name, dtype: object)\n",
      "('totalPages', 0    422\n",
      "1    520\n",
      "2    247\n",
      "3    469\n",
      "4    548\n",
      "Name: totalPages, dtype: int64)\n"
     ]
    }
   ],
   "source": [
    "askCurrentPageAllBooks()"
   ]
  },
  {
   "cell_type": "code",
   "execution_count": null,
   "metadata": {},
   "outputs": [],
   "source": []
  }
 ],
 "metadata": {
  "kernelspec": {
   "display_name": "Python 3",
   "language": "python",
   "name": "python3"
  },
  "language_info": {
   "codemirror_mode": {
    "name": "ipython",
    "version": 3
   },
   "file_extension": ".py",
   "mimetype": "text/x-python",
   "name": "python",
   "nbconvert_exporter": "python",
   "pygments_lexer": "ipython3",
   "version": "3.7.6"
  }
 },
 "nbformat": 4,
 "nbformat_minor": 4
}
